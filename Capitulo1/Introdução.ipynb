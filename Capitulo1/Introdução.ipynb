{
 "cells": [
  {
   "cell_type": "code",
   "execution_count": 2,
   "metadata": {},
   "outputs": [],
   "source": [
    "#Imports\n",
    "\n",
    "from collections import Counter\n",
    "from collections import defaultdict"
   ]
  },
  {
   "cell_type": "code",
   "execution_count": 9,
   "metadata": {},
   "outputs": [
    {
     "name": "stdout",
     "output_type": "stream",
     "text": [
      "{0: [1, 2], 1: [0, 2, 3], 2: [0, 1, 3], 3: [1, 2]}\n",
      "10\n",
      "2.5\n",
      "[(1, 3), (2, 3), (0, 2), (3, 2)]\n"
     ]
    }
   ],
   "source": [
    "# ENCONTRANDO CONECTORES CHAVES\n",
    "\n",
    "# Criação de um dicionario com a chave sendo um id (identificador atraves de posição do dicionario e valor sendo o nome do usuario)\n",
    "users = [{\"id\": 0, \"name\": \"Vitor\"},\n",
    "         {\"id\": 1, \"name\": \"Ana\"},\n",
    "         {\"id\": 2, \"name\": \"Fabiane\"},\n",
    "         {\"id\": 3, \"name\": \"Douglas\"}]\n",
    "\n",
    "friendship_pairs = [(0,1), (0,2), (1,2), (1,3), (2,3)] # Definindo quais são as amizadas dos usuarios\n",
    "\n",
    "friendships = {user[\"id\"]: [] for user in users} # user assume o que tem no users a cada interação, por isso o user[\"id\"] é de facil acesso ao user, por ele \"ser\" dele\n",
    "\n",
    "for i, j in friendship_pairs:\n",
    "    friendships[i].append(j)\n",
    "    friendships[j].append(i)\n",
    "\n",
    "print(friendships)\n",
    "\n",
    "# Definir agora qual o número médio de conexões\n",
    "\n",
    "def number_of_friends(user): #parâmetro user é um dictionary, um \"clone\" de users\n",
    "    user_id = user[\"id\"]\n",
    "    friend_ids = friendships[user_id] # acessa o valor do id especificado\n",
    "    return len(friend_ids) # Retorna a quantidade de amigos de um user especifico\n",
    "\n",
    "total_conections = sum(number_of_friends(user) for user in users) # Total de conexões gerais dos usuarios\n",
    "print(total_conections) # 10\n",
    "\n",
    "num_users = len(users) # tamanho da lista de usuários\n",
    "avg_connections = total_conections / num_users # Media de conexões\n",
    "print(avg_connections)\n",
    "\n",
    "# Encontrar a pessoa com mais conexões\n",
    "\n",
    "num_friends_by_id = [(user[\"id\"], number_of_friends(user)) for user in users] # nessa linha de código ele armazena em uma tupla o user_id e a quantidade de conexões a cada interação dentro de uma lista.\n",
    "\n",
    "num_friends_by_id.sort(key=lambda id_and_friends: id_and_friends[1], reverse = True) #id_and_friends \"assume\" o num_friends_by_id e id_and_friends[1] retorna o segundo valor da tupla\n",
    "print(num_friends_by_id) # retorno dele é (id,amigos)"
   ]
  },
  {
   "cell_type": "code",
   "execution_count": null,
   "metadata": {},
   "outputs": [
    {
     "name": "stdout",
     "output_type": "stream",
     "text": [
      "Foaf for user Vitor (0): [0, 2, 3, 0, 1, 3]\n",
      "Foaf for user Ana (1): [1, 2, 0, 1, 3, 1, 2]\n",
      "Foaf for user Fabiane (2): [1, 2, 0, 2, 3, 1, 2]\n",
      "Foaf for user Douglas (3): [0, 2, 3, 0, 1, 3]\n",
      "Counter({3: 2})\n"
     ]
    }
   ],
   "source": [
    "# CIENTISTAS DE DADOS QUE TALVEZ VOCÊ CONHEÇA\n",
    "\n",
    "def foaf_ids_bad(user):\n",
    "    return [foaf_id \n",
    "            for friend_id in friendships[user[\"id\"]] \n",
    "            for foaf_id in friendships[friend_id]]\n",
    "\n",
    "for user in users:\n",
    "    print(f\"Foaf for user {user['name']} ({user['id']}): {foaf_ids_bad(user)}\")\n",
    "    \n",
    "def friends_of_friends(user):\n",
    "    user_id = user[\"id\"]\n",
    "    return Counter(foaf_id # é o que vai receber e armazenar, ultimo elemento a receber alguma coisa // Counter pega o elemento e conta quantas vezes ele apareceu (Exemplo: se o \"a\" aparece três vezes numa lista, ele faz uma lista de dicionarios [{a:3}] )\n",
    "                   for friend_id in friendships[user_id] # friendships[user_id] = [1,2]\n",
    "                   for foaf_id in friendships[friend_id] # sempre ler um for da direita pra esquerda, o da direita vai entregar algo para a esquerda\n",
    "                   if foaf_id != user_id # Que não seja o \"meu\" id \n",
    "                   and foaf_id not in friendships[user_id]) # E que o id não esteja presente na \"minha\" lista de amigos\n",
    "\n",
    "print(friends_of_friends(users[0])) # O retorno dele é: id da pessoa: quantidade de amigos em comum"
   ]
  },
  {
   "cell_type": "code",
   "execution_count": 10,
   "metadata": {},
   "outputs": [
    {
     "name": "stdout",
     "output_type": "stream",
     "text": [
      "defaultdict(<class 'list'>, {'Hadoop': [0], 'Java': [0, 2, 3], 'NoSQL': [1], 'Python': [1], 'MongoDB': [2], 'R': [3]})\n",
      "defaultdict(<class 'list'>, {0: ['Hadoop', 'Java'], 1: ['NoSQL', 'Python'], 2: ['Java', 'MongoDB'], 3: ['Java', 'R']})\n",
      "Most common interests with user Vitor (0): Counter({2: 1, 3: 1})\n",
      "Most common interests with user Ana (1): Counter()\n",
      "Most common interests with user Fabiane (2): Counter({0: 1, 3: 1})\n",
      "Most common interests with user Douglas (3): Counter({0: 1, 2: 1})\n"
     ]
    }
   ],
   "source": [
    "# Interesses em comum\n",
    "\n",
    "interests = [(0, \"Hadoop\"), (0, \"Java\"), (1, \"NoSQL\"), (1, \"Python\"), (2, \"Java\"), (2, \"MongoDB\"), (3, \"Java\"), (3, \"R\")]\n",
    "\n",
    "'''\n",
    "def data_scientists_who_like(target_interest):\n",
    "    #Encontre os ids dos ususarios com o mesmo interesse\n",
    "    \n",
    "    return [user_id for user_id, user_interest in interests\n",
    "            if user_interest == target_interest]\n",
    "    \n",
    "print(data_scientists_who_like(\"Java\"))\n",
    "'''\n",
    "\n",
    "# quando há a necessidade de fazer muitas buscas, é melhor construir um índice de interesses para usuario\n",
    "\n",
    "user_ids_by_interest = defaultdict(list)\n",
    "for user_id, interest in interests: # o primeiro recebe o primeiro elemento da lista ou tupla, e o segundo recebe o outro valor\n",
    "    user_ids_by_interest[interest].append(user_id)\n",
    "    \n",
    "# Mesma coisa que o codigo acima só que o user_id vai ser a chave.\n",
    "\n",
    "interests_by_user_id = defaultdict(list)\n",
    "for user_id, interest in interests:\n",
    "    interests_by_user_id[user_id].append(interest)\n",
    "    \n",
    "print(user_ids_by_interest)\n",
    "print(interests_by_user_id)\n",
    "\n",
    "def most_common_interests_with(user):\n",
    "    return Counter(\n",
    "        interested_user_id\n",
    "        for interest in interests_by_user_id[user[\"id\"]] # Pegou os interesses de um usuario\n",
    "        for interested_user_id in user_ids_by_interest[interest] # Usou o interesse de um usuario para identificar quem tem os mesmos interesses\n",
    "        if interested_user_id != user[\"id\"]) # Exclui você\n",
    "    \n",
    "for user in users:\n",
    "    common_interests = most_common_interests_with(user)\n",
    "    print(f\"Most common interests with user {user['name']} ({user['id']}): {common_interests}\")"
   ]
  },
  {
   "cell_type": "code",
   "execution_count": null,
   "metadata": {},
   "outputs": [
    {
     "name": "stdout",
     "output_type": "stream",
     "text": [
      "Salaries and tenures: defaultdict(<class 'list'>, {8.7: [83000], 8.1: [88000], 0.7: [48000], 6: [76000], 6.5: [69000], 7.5: [76000], 2.5: [60000], 10: [83000], 1.9: [48000], 4.2: [63000]})\n",
      "Average of Salaries and tenures: {8.7: 83000.0, 8.1: 88000.0, 0.7: 48000.0, 6: 76000.0, 6.5: 69000.0, 7.5: 76000.0, 2.5: 60000.0, 10: 83000.0, 1.9: 48000.0, 4.2: 63000.0}\n",
      "Salaries and tenures by bycket: defaultdict(<class 'list'>, {'more than five': [83000, 88000, 76000, 69000, 76000, 83000], 'less than two': [48000, 48000], 'between two and five': [60000, 63000]})\n",
      "Average of Salaries and tenures by bucket: {'more than five': 79166.66666666667, 'less than two': 48000.0, 'between two and five': 61500.0}\n"
     ]
    }
   ],
   "source": [
    "# SALÁRIOS E EXPERIÊNCIA\n",
    "\n",
    "# Salary = dolares anuais\n",
    "# Tenure = experiência em anos\n",
    "\n",
    "salaries_and_tenures = [(83000, 8.7), (88000, 8.1), (48000, 0.7), (76000, 6), (69000, 6.5), (76000, 7.5), (60000, 2.5), (83000, 10), (48000, 1.9), (63000, 4.2)]\n",
    "\n",
    "salary_by_tenure = defaultdict(list) # cria um dicionario de lista vazio\n",
    "\n",
    "for salary, tenure in salaries_and_tenures:\n",
    "    salary_by_tenure[tenure].append(salary)\n",
    "    \n",
    "average_salary_by_tenure = {\n",
    "    tenure: sum(salaries) / len(salaries) # Aqui está fazendo por cada item, cada cientista\n",
    "    for tenure, salaries in salary_by_tenure.items()\n",
    "}\n",
    "print(f\"Salaries and tenures: {salary_by_tenure}\")\n",
    "print(f\"Average of Salaries and tenures: {average_salary_by_tenure}\")\n",
    "\n",
    "# informações acima não parecem muito util, percebendo que nem todos tem o mesmo tempo de experiência\n",
    "\n",
    "def tenure_bucket(tenure):\n",
    "    if tenure < 2:\n",
    "        return \"less than two\"\n",
    "    elif tenure < 5:\n",
    "        return \"between two and five\"\n",
    "    else:\n",
    "        return \"more than five\"\n",
    "    \n",
    "salary_by_tenure_bucket = defaultdict(list)\n",
    "\n",
    "for salary,tenure in salaries_and_tenures:\n",
    "    bucket = tenure_bucket(tenure)\n",
    "    salary_by_tenure_bucket[bucket].append(salary)\n",
    "\n",
    "average_salary_by_tenure_bucket = {\n",
    "    tenure_bucket: sum(salaries)/len(salaries)\n",
    "    for tenure_bucket, salaries in salary_by_tenure_bucket.items()\n",
    "}\n",
    "\n",
    "print(f\"Salaries and tenures by bucket: {salary_by_tenure_bucket}\")\n",
    "print(f\"Average of Salaries and tenures by bucket: {average_salary_by_tenure_bucket}\")"
   ]
  },
  {
   "cell_type": "code",
   "execution_count": 14,
   "metadata": {},
   "outputs": [
    {
     "name": "stdout",
     "output_type": "stream",
     "text": [
      "java 3\n",
      "hadoop 1\n",
      "nosql 1\n",
      "python 1\n",
      "mongodb 1\n",
      "r 1\n"
     ]
    }
   ],
   "source": [
    "# Topico de interesse \n",
    "\n",
    "words_and_counts = Counter(word\n",
    "                           for user,interest in interests\n",
    "                           for word in interest.lower().split())\n",
    "\n",
    "for word, count in words_and_counts.most_common():\n",
    "    if count >= 1:\n",
    "        print(word, count)\n",
    "\n",
    "# FIM DO CAPITULO 1"
   ]
  }
 ],
 "metadata": {
  "kernelspec": {
   "display_name": "Python 3",
   "language": "python",
   "name": "python3"
  },
  "language_info": {
   "codemirror_mode": {
    "name": "ipython",
    "version": 3
   },
   "file_extension": ".py",
   "mimetype": "text/x-python",
   "name": "python",
   "nbconvert_exporter": "python",
   "pygments_lexer": "ipython3",
   "version": "3.12.7"
  }
 },
 "nbformat": 4,
 "nbformat_minor": 2
}
