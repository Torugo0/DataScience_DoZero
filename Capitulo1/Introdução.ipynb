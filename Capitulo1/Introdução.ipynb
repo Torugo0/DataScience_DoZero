{
 "cells": [
  {
   "cell_type": "code",
   "execution_count": 2,
   "metadata": {},
   "outputs": [],
   "source": [
    "#Imports\n",
    "\n",
    "from collections import Counter\n",
    "from collections import defaultdict"
   ]
  },
  {
   "cell_type": "code",
   "execution_count": null,
   "metadata": {},
   "outputs": [
    {
     "name": "stdout",
     "output_type": "stream",
     "text": [
      "10\n",
      "2.5\n",
      "[(1, 3), (2, 3), (0, 2), (3, 2)]\n"
     ]
    }
   ],
   "source": [
    "# ENCONTRANDO CONECTORES CHAVES\n",
    "\n",
    "users = [{\"id\": 0, \"name\": \"Vitor\"},\n",
    "         {\"id\": 1, \"name\": \"Ana\"},\n",
    "         {\"id\": 2, \"name\": \"Fabiane\"},\n",
    "         {\"id\": 3, \"name\": \"Douglas\"}]\n",
    "\n",
    "friendship_pairs = [(0,1), (0,2), (1,2), (1,3), (2,3)]\n",
    "\n",
    "friendships = {user[\"id\"]: [] for user in users} # user assume o que tem no users a cada interação, por isso o user[\"id\"] é de facil acesso ao user, por ele \"ser\" dele\n",
    "\n",
    "for i, j in friendship_pairs:\n",
    "    friendships[i].append(j)\n",
    "    friendships[j].append(i)\n",
    "\n",
    "# Definir agora qual o número médio de conexões\n",
    "\n",
    "def number_of_friends(user): #parâmetro user é um dictionary, um \"clone\" de users\n",
    "    user_id = user[\"id\"]\n",
    "    friend_ids = friendships[user_id] # acessa o valor do id especificado\n",
    "    return len(friend_ids)\n",
    "\n",
    "total_conections = sum(number_of_friends(user) for user in users)\n",
    "print(total_conections) # 10\n",
    "\n",
    "num_users = len(users) # tamanho da lista de usuários\n",
    "avg_connections = total_conections / num_users \n",
    "print(avg_connections)\n",
    "\n",
    "# Encontrar a pessoa com mais conexões\n",
    "\n",
    "num_friends_by_id = [(user[\"id\"], number_of_friends(user)) for user in users] # nessa linha de código ele armazena em uma tupla o user_id e a quantidade de conexões a cada interação dentro de uma lista.\n",
    "\n",
    "num_friends_by_id.sort(key=lambda id_and_friends: id_and_friends[1], reverse = True) #id_and_friends \"assume\" o num_friends_by_id e id_and_friends[1] retorna o segundo valor da tupla\n",
    "print(num_friends_by_id) # retorno dele é (id,amigos)"
   ]
  }
 ],
 "metadata": {
  "kernelspec": {
   "display_name": "Python 3",
   "language": "python",
   "name": "python3"
  },
  "language_info": {
   "codemirror_mode": {
    "name": "ipython",
    "version": 3
   },
   "file_extension": ".py",
   "mimetype": "text/x-python",
   "name": "python",
   "nbconvert_exporter": "python",
   "pygments_lexer": "ipython3",
   "version": "3.12.7"
  }
 },
 "nbformat": 4,
 "nbformat_minor": 2
}
